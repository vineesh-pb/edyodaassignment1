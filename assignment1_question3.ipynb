{
 "cells": [
  {
   "cell_type": "code",
   "execution_count": 1,
   "id": "2554ff9c",
   "metadata": {},
   "outputs": [
    {
     "name": "stdout",
     "output_type": "stream",
     "text": [
      "Enter the number of elements:6\n",
      "enter the elements:12\n",
      "enter the elements:1\n",
      "enter the elements:566\n",
      "enter the elements:88\n",
      "enter the elements:9\n",
      "enter the elements:90\n",
      "The number of even numbers: 4\n",
      "The number of odd numbers: 2\n"
     ]
    }
   ],
   "source": [
    "a=0\n",
    "b=0\n",
    "lst=[]\n",
    "n=int(input(\"Enter the number of elements:\"))\n",
    "for i in range(n):\n",
    "    elments=int(input(\"enter the elements:\"))\n",
    "    lst.append(elments)\n",
    "    \n",
    "for j in range(n):\n",
    "    if(lst[j]%2==0):\n",
    "        a+=1\n",
    "    else:\n",
    "        b+=1\n",
    "print(\"The number of even numbers:\",a)\n",
    "print(\"The number of odd numbers:\",b)"
   ]
  },
  {
   "cell_type": "code",
   "execution_count": null,
   "id": "7faf5187",
   "metadata": {},
   "outputs": [],
   "source": []
  }
 ],
 "metadata": {
  "kernelspec": {
   "display_name": "Python 3",
   "language": "python",
   "name": "python3"
  },
  "language_info": {
   "codemirror_mode": {
    "name": "ipython",
    "version": 3
   },
   "file_extension": ".py",
   "mimetype": "text/x-python",
   "name": "python",
   "nbconvert_exporter": "python",
   "pygments_lexer": "ipython3",
   "version": "3.8.8"
  }
 },
 "nbformat": 4,
 "nbformat_minor": 5
}
