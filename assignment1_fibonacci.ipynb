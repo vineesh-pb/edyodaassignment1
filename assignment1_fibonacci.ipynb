{
 "cells": [
  {
   "cell_type": "code",
   "execution_count": 1,
   "id": "855ef0f7",
   "metadata": {},
   "outputs": [
    {
     "name": "stdout",
     "output_type": "stream",
     "text": [
      "*****************************************  Fibonocci series between 0 to 50    ***************************************** \n",
      "\n",
      "0\t1\t1\t2\t3\t5\t8\t13\t21\t34\t\n",
      " \n",
      " ************************************************   end of the program  *************************************************\n"
     ]
    }
   ],
   "source": [
    "print(\"  Fibonocci series between 0 to 50    \".center(120,'*'),'\\n')\n",
    "x,y=0,1\n",
    "while(x<50):\n",
    "    print(x,end='\\t')\n",
    "    x,y=y,x+y\n",
    "else:\n",
    "     print(\"\\n\",\"\\n\",\"   end of the program  \".center(120,'*'))   "
   ]
  },
  {
   "cell_type": "code",
   "execution_count": null,
   "id": "7ca07424",
   "metadata": {},
   "outputs": [],
   "source": []
  }
 ],
 "metadata": {
  "kernelspec": {
   "display_name": "Python 3",
   "language": "python",
   "name": "python3"
  },
  "language_info": {
   "codemirror_mode": {
    "name": "ipython",
    "version": 3
   },
   "file_extension": ".py",
   "mimetype": "text/x-python",
   "name": "python",
   "nbconvert_exporter": "python",
   "pygments_lexer": "ipython3",
   "version": "3.8.8"
  }
 },
 "nbformat": 4,
 "nbformat_minor": 5
}
